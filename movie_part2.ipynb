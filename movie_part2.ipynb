{
 "metadata": {
  "language_info": {
   "codemirror_mode": {
    "name": "ipython",
    "version": 3
   },
   "file_extension": ".py",
   "mimetype": "text/x-python",
   "name": "python",
   "nbconvert_exporter": "python",
   "pygments_lexer": "ipython3",
   "version": "3.8.8"
  },
  "orig_nbformat": 4,
  "kernelspec": {
   "name": "python3",
   "display_name": "Python 3.8.8 64-bit ('base': conda)"
  },
  "interpreter": {
   "hash": "3738e7939a01e305955610e9d521bcc1d7aa2c44637c316c2f1f8faccf87ea10"
  }
 },
 "nbformat": 4,
 "nbformat_minor": 2,
 "cells": [
  {
   "cell_type": "code",
   "execution_count": 11,
   "metadata": {},
   "outputs": [
    {
     "output_type": "stream",
     "name": "stdout",
     "text": [
      "                                  Film    Genre            Lead Studio  \\\n0           Zack and Miri Make a Porno  Romance  The Weinstein Company   \n1                      Youth in Revolt   Comedy  The Weinstein Company   \n2   You Will Meet a Tall Dark Stranger   Comedy            Independent   \n3                         When in Rome   Comedy                 Disney   \n4                What Happens in Vegas   Comedy                    Fox   \n..                                 ...      ...                    ...   \n72                 Across the Universe  romance            Independent   \n73                       A Serious Man    Drama              Universal   \n74                  A Dangerous Method    Drama            Independent   \n75                          27 Dresses   Comedy                    Fox   \n76                (500) Days of Summer   comedy                    Fox   \n\n    Audience score %  Profitability  Rotten Tomatoes % Worldwide Gross  Year  \n0                 70       1.747542                 64         $41.94   2008  \n1                 52       1.090000                 68         $19.62   2010  \n2                 35       1.211818                 43         $26.66   2010  \n3                 44       0.000000                 15         $43.04   2010  \n4                 72       6.267647                 28        $219.37   2008  \n..               ...            ...                ...             ...   ...  \n72                84       0.652603                 54         $29.37   2007  \n73                64       4.382857                 89         $30.68   2009  \n74                89       0.448645                 79          $8.97   2011  \n75                71       5.343622                 40        $160.31   2008  \n76                81       8.096000                 87         $60.72   2009  \n\n[77 rows x 8 columns]\n"
     ]
    }
   ],
   "source": [
    "import pandas as pd \n",
    "\n",
    "df = pd.read_csv (\"https://gist.githubusercontent.com/tiangechen/b68782efa49a16edaf07dc2cdaa855ea/raw/0c794a9717f18b094eabab2cd6a6b9a226903577/movies.csv\")\n",
    "\n",
    "\n",
    "print (df)"
   ]
  },
  {
   "cell_type": "code",
   "execution_count": 12,
   "metadata": {},
   "outputs": [
    {
     "output_type": "execute_result",
     "data": {
      "text/plain": [
       "                  Film   Genre   Lead Studio  Audience score %  Profitability  \\\n",
       "18  The Heartbreak Kid  Comedy     Paramount                41       2.129444   \n",
       "36     No Reservations  Comedy  Warner Bros.                64       3.307180   \n",
       "51      License to Wed  Comedy  Warner Bros.                55       1.980206   \n",
       "54          Knocked Up  Comedy     Universal                83       6.636402   \n",
       "62     Good Luck Chuck  Comedy     Lionsgate                61       2.367685   \n",
       "69           Enchanted  Comedy        Disney                80       4.005737   \n",
       "\n",
       "    Rotten Tomatoes % Worldwide Gross  Year  \n",
       "18                 30        $127.77   2007  \n",
       "36                 39         $92.60   2007  \n",
       "51                  8         $69.31   2007  \n",
       "54                 91           $219   2007  \n",
       "62                  3         $59.19   2007  \n",
       "69                 93        $340.49   2007  "
      ],
      "text/html": "<div>\n<style scoped>\n    .dataframe tbody tr th:only-of-type {\n        vertical-align: middle;\n    }\n\n    .dataframe tbody tr th {\n        vertical-align: top;\n    }\n\n    .dataframe thead th {\n        text-align: right;\n    }\n</style>\n<table border=\"1\" class=\"dataframe\">\n  <thead>\n    <tr style=\"text-align: right;\">\n      <th></th>\n      <th>Film</th>\n      <th>Genre</th>\n      <th>Lead Studio</th>\n      <th>Audience score %</th>\n      <th>Profitability</th>\n      <th>Rotten Tomatoes %</th>\n      <th>Worldwide Gross</th>\n      <th>Year</th>\n    </tr>\n  </thead>\n  <tbody>\n    <tr>\n      <th>18</th>\n      <td>The Heartbreak Kid</td>\n      <td>Comedy</td>\n      <td>Paramount</td>\n      <td>41</td>\n      <td>2.129444</td>\n      <td>30</td>\n      <td>$127.77</td>\n      <td>2007</td>\n    </tr>\n    <tr>\n      <th>36</th>\n      <td>No Reservations</td>\n      <td>Comedy</td>\n      <td>Warner Bros.</td>\n      <td>64</td>\n      <td>3.307180</td>\n      <td>39</td>\n      <td>$92.60</td>\n      <td>2007</td>\n    </tr>\n    <tr>\n      <th>51</th>\n      <td>License to Wed</td>\n      <td>Comedy</td>\n      <td>Warner Bros.</td>\n      <td>55</td>\n      <td>1.980206</td>\n      <td>8</td>\n      <td>$69.31</td>\n      <td>2007</td>\n    </tr>\n    <tr>\n      <th>54</th>\n      <td>Knocked Up</td>\n      <td>Comedy</td>\n      <td>Universal</td>\n      <td>83</td>\n      <td>6.636402</td>\n      <td>91</td>\n      <td>$219</td>\n      <td>2007</td>\n    </tr>\n    <tr>\n      <th>62</th>\n      <td>Good Luck Chuck</td>\n      <td>Comedy</td>\n      <td>Lionsgate</td>\n      <td>61</td>\n      <td>2.367685</td>\n      <td>3</td>\n      <td>$59.19</td>\n      <td>2007</td>\n    </tr>\n    <tr>\n      <th>69</th>\n      <td>Enchanted</td>\n      <td>Comedy</td>\n      <td>Disney</td>\n      <td>80</td>\n      <td>4.005737</td>\n      <td>93</td>\n      <td>$340.49</td>\n      <td>2007</td>\n    </tr>\n  </tbody>\n</table>\n</div>"
     },
     "metadata": {},
     "execution_count": 12
    }
   ],
   "source": [
    "df[(df['Year'] == 2007) & (df['Genre'] == 'Comedy')]"
   ]
  },
  {
   "cell_type": "code",
   "execution_count": 27,
   "metadata": {},
   "outputs": [
    {
     "output_type": "execute_result",
     "data": {
      "text/plain": [
       "Film                 2\n",
       "Genre                2\n",
       "Lead Studio          2\n",
       "Audience score %     2\n",
       "Profitability        2\n",
       "Rotten Tomatoes %    2\n",
       "Worldwide Gross      2\n",
       "Year                 2\n",
       "dtype: int64"
      ]
     },
     "metadata": {},
     "execution_count": 27
    }
   ],
   "source": [
    "import pandas as pd \n",
    "\n",
    "df = pd.read_csv (\"https://gist.githubusercontent.com/tiangechen/b68782efa49a16edaf07dc2cdaa855ea/raw/0c794a9717f18b094eabab2cd6a6b9a226903577/movies.csv\")\n",
    "\n",
    "df[(df['Audience score %'] > 70) & (df['Genre'] == 'Animation')].count()"
   ]
  },
  {
   "cell_type": "code",
   "execution_count": 24,
   "metadata": {},
   "outputs": [
    {
     "output_type": "execute_result",
     "data": {
      "text/plain": [
       "       Film      Genre Lead Studio  Audience score %  Profitability  \\\n",
       "6    WALL-E  Animation      Disney                89       2.896019   \n",
       "22  Tangled  Animation      Disney                88       1.365692   \n",
       "\n",
       "    Rotten Tomatoes % Worldwide Gross  Year  \n",
       "6                  96        $521.28   2008  \n",
       "22                 89        $355.01   2010  "
      ],
      "text/html": "<div>\n<style scoped>\n    .dataframe tbody tr th:only-of-type {\n        vertical-align: middle;\n    }\n\n    .dataframe tbody tr th {\n        vertical-align: top;\n    }\n\n    .dataframe thead th {\n        text-align: right;\n    }\n</style>\n<table border=\"1\" class=\"dataframe\">\n  <thead>\n    <tr style=\"text-align: right;\">\n      <th></th>\n      <th>Film</th>\n      <th>Genre</th>\n      <th>Lead Studio</th>\n      <th>Audience score %</th>\n      <th>Profitability</th>\n      <th>Rotten Tomatoes %</th>\n      <th>Worldwide Gross</th>\n      <th>Year</th>\n    </tr>\n  </thead>\n  <tbody>\n    <tr>\n      <th>6</th>\n      <td>WALL-E</td>\n      <td>Animation</td>\n      <td>Disney</td>\n      <td>89</td>\n      <td>2.896019</td>\n      <td>96</td>\n      <td>$521.28</td>\n      <td>2008</td>\n    </tr>\n    <tr>\n      <th>22</th>\n      <td>Tangled</td>\n      <td>Animation</td>\n      <td>Disney</td>\n      <td>88</td>\n      <td>1.365692</td>\n      <td>89</td>\n      <td>$355.01</td>\n      <td>2010</td>\n    </tr>\n  </tbody>\n</table>\n</div>"
     },
     "metadata": {},
     "execution_count": 24
    }
   ],
   "source": [
    "import pandas as pd \n",
    "\n",
    "df = pd.read_csv (\"https://gist.githubusercontent.com/tiangechen/b68782efa49a16edaf07dc2cdaa855ea/raw/0c794a9717f18b094eabab2cd6a6b9a226903577/movies.csv\")\n",
    "\n",
    "df[(df['Genre'] == 'Animation') & (df['Audience score %'] > 70)]"
   ]
  },
  {
   "cell_type": "code",
   "execution_count": 25,
   "metadata": {},
   "outputs": [
    {
     "output_type": "execute_result",
     "data": {
      "text/plain": [
       "                                  Film    Genre  Lead Studio  \\\n",
       "68                           Fireproof    Drama  Independent   \n",
       "60  High School Musical 3: Senior Year   Comedy       Disney   \n",
       "14         The Twilight Saga: New Moon    Drama       Summit   \n",
       "7                             Waitress  Romance  Independent   \n",
       "12                            Twilight  Romance       Summit   \n",
       "\n",
       "    Audience score %  Profitability  Rotten Tomatoes % Worldwide Gross  Year  \n",
       "68                51      66.934000                 40         $33.47   2008  \n",
       "60                76      22.913136                 65        $252.04   2008  \n",
       "14                78      14.196400                 27        $709.82   2009  \n",
       "7                 67      11.089742                 89         $22.18   2007  \n",
       "12                82      10.180027                 49        $376.66   2008  "
      ],
      "text/html": "<div>\n<style scoped>\n    .dataframe tbody tr th:only-of-type {\n        vertical-align: middle;\n    }\n\n    .dataframe tbody tr th {\n        vertical-align: top;\n    }\n\n    .dataframe thead th {\n        text-align: right;\n    }\n</style>\n<table border=\"1\" class=\"dataframe\">\n  <thead>\n    <tr style=\"text-align: right;\">\n      <th></th>\n      <th>Film</th>\n      <th>Genre</th>\n      <th>Lead Studio</th>\n      <th>Audience score %</th>\n      <th>Profitability</th>\n      <th>Rotten Tomatoes %</th>\n      <th>Worldwide Gross</th>\n      <th>Year</th>\n    </tr>\n  </thead>\n  <tbody>\n    <tr>\n      <th>68</th>\n      <td>Fireproof</td>\n      <td>Drama</td>\n      <td>Independent</td>\n      <td>51</td>\n      <td>66.934000</td>\n      <td>40</td>\n      <td>$33.47</td>\n      <td>2008</td>\n    </tr>\n    <tr>\n      <th>60</th>\n      <td>High School Musical 3: Senior Year</td>\n      <td>Comedy</td>\n      <td>Disney</td>\n      <td>76</td>\n      <td>22.913136</td>\n      <td>65</td>\n      <td>$252.04</td>\n      <td>2008</td>\n    </tr>\n    <tr>\n      <th>14</th>\n      <td>The Twilight Saga: New Moon</td>\n      <td>Drama</td>\n      <td>Summit</td>\n      <td>78</td>\n      <td>14.196400</td>\n      <td>27</td>\n      <td>$709.82</td>\n      <td>2009</td>\n    </tr>\n    <tr>\n      <th>7</th>\n      <td>Waitress</td>\n      <td>Romance</td>\n      <td>Independent</td>\n      <td>67</td>\n      <td>11.089742</td>\n      <td>89</td>\n      <td>$22.18</td>\n      <td>2007</td>\n    </tr>\n    <tr>\n      <th>12</th>\n      <td>Twilight</td>\n      <td>Romance</td>\n      <td>Summit</td>\n      <td>82</td>\n      <td>10.180027</td>\n      <td>49</td>\n      <td>$376.66</td>\n      <td>2008</td>\n    </tr>\n  </tbody>\n</table>\n</div>"
     },
     "metadata": {},
     "execution_count": 25
    }
   ],
   "source": [
    "import pandas as pd \n",
    "\n",
    "df = pd.read_csv (\"https://gist.githubusercontent.com/tiangechen/b68782efa49a16edaf07dc2cdaa855ea/raw/0c794a9717f18b094eabab2cd6a6b9a226903577/movies.csv\")\n",
    "\n",
    "df.sort_values(by = 'Profitability', ascending = False ).head(5)"
   ]
  },
  {
   "cell_type": "code",
   "execution_count": null,
   "metadata": {},
   "outputs": [],
   "source": []
  }
 ]
}